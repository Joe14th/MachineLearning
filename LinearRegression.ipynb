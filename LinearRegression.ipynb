{
  "nbformat": 4,
  "nbformat_minor": 0,
  "metadata": {
    "colab": {
      "name": "LinearRegression.ipynb",
      "version": "0.3.2",
      "provenance": [],
      "include_colab_link": true
    },
    "kernelspec": {
      "name": "python3",
      "display_name": "Python 3"
    }
  },
  "cells": [
    {
      "cell_type": "markdown",
      "metadata": {
        "id": "view-in-github",
        "colab_type": "text"
      },
      "source": [
        "<a href=\"https://colab.research.google.com/github/Joe14th/MachineLearning/blob/master/LinearRegression.ipynb\" target=\"_parent\"><img src=\"https://colab.research.google.com/assets/colab-badge.svg\" alt=\"Open In Colab\"/></a>"
      ]
    },
    {
      "metadata": {
        "id": "uLgzLm3MivKA",
        "colab_type": "code",
        "colab": {}
      },
      "cell_type": "code",
      "source": [
        "import numpy as np"
      ],
      "execution_count": 0,
      "outputs": []
    },
    {
      "metadata": {
        "id": "o-T-pVt5i4u0",
        "colab_type": "code",
        "colab": {}
      },
      "cell_type": "code",
      "source": [
        "def NN(m1,m2,w1,w2,b):\n",
        "  z = m1 * w1 + m2 * w2 + b\n",
        "  return sigmoid(z)  #return 0-1 val"
      ],
      "execution_count": 0,
      "outputs": []
    },
    {
      "metadata": {
        "id": "RsmXzDTWjEQh",
        "colab_type": "code",
        "colab": {}
      },
      "cell_type": "code",
      "source": [
        "def sigmoid(x):\n",
        "  return 1/(1 + np.exp(-x))"
      ],
      "execution_count": 0,
      "outputs": []
    },
    {
      "metadata": {
        "id": "HV79CU5zjNpq",
        "colab_type": "code",
        "colab": {}
      },
      "cell_type": "code",
      "source": [
        "w1 = np.random.rand()\n",
        "w2 = np.random.rand()\n",
        "b = np.random.rand()"
      ],
      "execution_count": 0,
      "outputs": []
    },
    {
      "metadata": {
        "id": "rp80NBZhjirc",
        "colab_type": "code",
        "outputId": "d4692d19-6654-4316-a4f4-1a01ba9b30bd",
        "colab": {
          "base_uri": "https://localhost:8080/",
          "height": 35
        }
      },
      "cell_type": "code",
      "source": [
        "#measurements from farmer (0=1, 1=red)\n",
        "#from red flower\n",
        "NN(3, 1.5 , w1, w2 ,b)"
      ],
      "execution_count": 0,
      "outputs": [
        {
          "output_type": "execute_result",
          "data": {
            "text/plain": [
              "0.6966143711841282"
            ]
          },
          "metadata": {
            "tags": []
          },
          "execution_count": 13
        }
      ]
    },
    {
      "metadata": {
        "id": "sWRK6rT2jn73",
        "colab_type": "code",
        "outputId": "16e01ace-d5ad-430b-8ab9-5ad6cb7f0842",
        "colab": {
          "base_uri": "https://localhost:8080/",
          "height": 35
        }
      },
      "cell_type": "code",
      "source": [
        "#blue flower, but showing red\n",
        "NN(2, 1, w1, w2, b)"
      ],
      "execution_count": 0,
      "outputs": [
        {
          "output_type": "execute_result",
          "data": {
            "text/plain": [
              "0.6378324159768831"
            ]
          },
          "metadata": {
            "tags": []
          },
          "execution_count": 15
        }
      ]
    },
    {
      "metadata": {
        "id": "1161aq5gj543",
        "colab_type": "code",
        "colab": {}
      },
      "cell_type": "code",
      "source": [
        "#cost function + calculus\n",
        "#takes farmers data (True value, 0 or 1) and our prediction = how bad our computer is doing\n",
        "#and tells us how far our predictions are from what they should be\n",
        "#we want to minimize this number => we are getting closer to right value\n",
        "# ==> we have to change one input => predictions!\n",
        "\n",
        "#squared error cost function = (prediction - target value)**2\n",
        "\n",
        "#simple neural network\n",
        "#NN() = b -> (b-4)**2 = cost(b) //4 is a random target value\n",
        "#when above target value, slope is positive --> b-- (subtract slope of b)\n",
        "#when below target value, slope is negative --> b++ (subtract slope of b)\n",
        "\n",
        "#slope of the cost function at b?\n",
        "#derivative of the cost function in respect to b\n",
        "#b -= 0.1 * slope(b)\n",
        " \n",
        "#the slope of f(x) as we change x"
      ],
      "execution_count": 0,
      "outputs": []
    },
    {
      "metadata": {
        "id": "U3-Gx-0UuebQ",
        "colab_type": "code",
        "colab": {}
      },
      "cell_type": "code",
      "source": [
        "def cost(b):\n",
        "  return (b-4)**2"
      ],
      "execution_count": 0,
      "outputs": []
    },
    {
      "metadata": {
        "id": "Z_S8NkZM0t-v",
        "colab_type": "code",
        "outputId": "e5dac063-7212-4381-8793-c7d317ae52fc",
        "colab": {
          "base_uri": "https://localhost:8080/",
          "height": 35
        }
      },
      "cell_type": "code",
      "source": [
        "cost(0)"
      ],
      "execution_count": 0,
      "outputs": [
        {
          "output_type": "execute_result",
          "data": {
            "text/plain": [
              "16"
            ]
          },
          "metadata": {
            "tags": []
          },
          "execution_count": 18
        }
      ]
    },
    {
      "metadata": {
        "id": "QzmSsz480u3G",
        "colab_type": "code",
        "outputId": "aeed618d-94f8-4908-951b-d1ed49840f2d",
        "colab": {
          "base_uri": "https://localhost:8080/",
          "height": 35
        }
      },
      "cell_type": "code",
      "source": [
        "cost(2)"
      ],
      "execution_count": 0,
      "outputs": [
        {
          "output_type": "execute_result",
          "data": {
            "text/plain": [
              "4"
            ]
          },
          "metadata": {
            "tags": []
          },
          "execution_count": 19
        }
      ]
    },
    {
      "metadata": {
        "id": "m49SEBaa0wSJ",
        "colab_type": "code",
        "outputId": "d010b7a5-af9d-4054-e0df-30a944a09177",
        "colab": {
          "base_uri": "https://localhost:8080/",
          "height": 35
        }
      },
      "cell_type": "code",
      "source": [
        "cost(4) #at target"
      ],
      "execution_count": 0,
      "outputs": [
        {
          "output_type": "execute_result",
          "data": {
            "text/plain": [
              "0"
            ]
          },
          "metadata": {
            "tags": []
          },
          "execution_count": 21
        }
      ]
    },
    {
      "metadata": {
        "id": "t1BUKkFK0yGx",
        "colab_type": "code",
        "colab": {}
      },
      "cell_type": "code",
      "source": [
        "#approximated slope (the smaller h the closer)\n",
        "def num_slope(b):\n",
        "  h = 0.0001\n",
        "  return (cost(b+h) - cost(b))/h  #slope"
      ],
      "execution_count": 0,
      "outputs": []
    },
    {
      "metadata": {
        "id": "vNgEx5cA09T5",
        "colab_type": "code",
        "outputId": "e2c4541c-13de-4a19-f1b1-7e65f0c93531",
        "colab": {
          "base_uri": "https://localhost:8080/",
          "height": 35
        }
      },
      "cell_type": "code",
      "source": [
        "num_slope(3) #below target = -slope"
      ],
      "execution_count": 0,
      "outputs": [
        {
          "output_type": "execute_result",
          "data": {
            "text/plain": [
              "-1.9999000000037181"
            ]
          },
          "metadata": {
            "tags": []
          },
          "execution_count": 23
        }
      ]
    },
    {
      "metadata": {
        "id": "uCeDgABE1AT8",
        "colab_type": "code",
        "outputId": "ac2e6041-e0b6-432b-e268-ee511486e9a7",
        "colab": {
          "base_uri": "https://localhost:8080/",
          "height": 35
        }
      },
      "cell_type": "code",
      "source": [
        "num_slope(5) #above target = +slope"
      ],
      "execution_count": 0,
      "outputs": [
        {
          "output_type": "execute_result",
          "data": {
            "text/plain": [
              "2.000099999994731"
            ]
          },
          "metadata": {
            "tags": []
          },
          "execution_count": 24
        }
      ]
    },
    {
      "metadata": {
        "id": "uuyg4prX1DmB",
        "colab_type": "code",
        "colab": {}
      },
      "cell_type": "code",
      "source": [
        "#now find actual slope (no approximation)\n",
        "def slope(b):\n",
        "  return 2 * (b-4) #chain + power rule of (b-4)**2"
      ],
      "execution_count": 0,
      "outputs": []
    },
    {
      "metadata": {
        "id": "gFepdD1C1Lp0",
        "colab_type": "code",
        "outputId": "71599e80-fa24-4e98-f7a9-782d55b72cca",
        "colab": {
          "base_uri": "https://localhost:8080/",
          "height": 35
        }
      },
      "cell_type": "code",
      "source": [
        "slope(3)"
      ],
      "execution_count": 0,
      "outputs": [
        {
          "output_type": "execute_result",
          "data": {
            "text/plain": [
              "-2"
            ]
          },
          "metadata": {
            "tags": []
          },
          "execution_count": 27
        }
      ]
    },
    {
      "metadata": {
        "id": "-WtOCNZE1WR-",
        "colab_type": "code",
        "outputId": "c3179476-2c6e-4dba-c1f3-248f86efefc3",
        "colab": {
          "base_uri": "https://localhost:8080/",
          "height": 35
        }
      },
      "cell_type": "code",
      "source": [
        "slope(5)"
      ],
      "execution_count": 0,
      "outputs": [
        {
          "output_type": "execute_result",
          "data": {
            "text/plain": [
              "2"
            ]
          },
          "metadata": {
            "tags": []
          },
          "execution_count": 28
        }
      ]
    },
    {
      "metadata": {
        "id": "VR2sswvM1YhE",
        "colab_type": "code",
        "colab": {}
      },
      "cell_type": "code",
      "source": [
        "b=8"
      ],
      "execution_count": 0,
      "outputs": []
    },
    {
      "metadata": {
        "id": "3-Y3nzlo1zbX",
        "colab_type": "code",
        "outputId": "edef723c-9408-43f2-80e6-bcd34427c0d5",
        "colab": {
          "base_uri": "https://localhost:8080/",
          "height": 35
        }
      },
      "cell_type": "code",
      "source": [
        "#the more i run it the closer we get to target = 4\n",
        "b = b - .1 * slope(b) #decrese b by a fraction of the slope\n",
        "print(b)"
      ],
      "execution_count": 0,
      "outputs": [
        {
          "output_type": "stream",
          "text": [
            "4.8388608\n"
          ],
          "name": "stdout"
        }
      ]
    },
    {
      "metadata": {
        "id": "kOu1EUBI1_oh",
        "colab_type": "code",
        "outputId": "53be9e91-acf4-4f16-a4ca-ed2883c616fc",
        "colab": {
          "base_uri": "https://localhost:8080/",
          "height": 191
        }
      },
      "cell_type": "code",
      "source": [
        "b = 6\n",
        "#training loop = changing cost and\n",
        "#changing output of neural network to a target value\n",
        "for i in range(10):\n",
        "  b = b - .1 * slope(b)\n",
        "  print(b)"
      ],
      "execution_count": 0,
      "outputs": [
        {
          "output_type": "stream",
          "text": [
            "5.6\n",
            "5.279999999999999\n",
            "5.023999999999999\n",
            "4.8191999999999995\n",
            "4.65536\n",
            "4.524288\n",
            "4.4194304\n",
            "4.33554432\n",
            "4.268435456000001\n",
            "4.2147483648\n"
          ],
          "name": "stdout"
        }
      ]
    },
    {
      "metadata": {
        "id": "yi_MeNdN2L4z",
        "colab_type": "code",
        "colab": {}
      },
      "cell_type": "code",
      "source": [
        "#linear regression\n",
        "#More complex neural network that takes 2 inputs representing a line (dog [#pats => #wags])\n",
        "\n",
        "#wags = y, pats = y\n",
        "#scatter plot of pats/wag looks like it follows a line\n",
        "#wags(pats) = w*pats+b //equation for a line\n",
        "\n",
        "#difference of what our model says vs what our data says\n",
        "#wags(pats) - wags = wags(4) - 5 = 0.87 \n",
        "#we want to minimize the squared difference (prediction - target)**2\n",
        "#(wags(4)-5)**2 \n",
        "\n",
        "#add up all squared difference = cost of all points\n",
        "#we want this cost to be as close to 0 as we can\n",
        "\n",
        "#partial derivative of big cost function in respect to w and b\n",
        "#it will tell us how to change w and b\n",
        "\n",
        "#new 3d graph with x=w,y=b,z=cost(w,b)\n",
        "#find minimum point\n",
        "\n",
        "#find slope of w and slope of b to know which way to move\n",
        "#partial derivate with respect to w and b\n",
        "#repetedly subtract fraction of slope\n",
        "\n",
        "def dcdw(w,b):\n",
        "  return 2(w*1+b-2)*1 + 2(w*2+b-4)*2 + 2*(w*4+b-5)*4\n",
        "\n",
        "def dcdb(w,b):\n",
        "  return 2(w*1+b-2) + 2(w*2+b-4) + 2*(w*4+b-5)"
      ],
      "execution_count": 0,
      "outputs": []
    },
    {
      "metadata": {
        "id": "YuFwJosTJHeh",
        "colab_type": "code",
        "colab": {}
      },
      "cell_type": "code",
      "source": [
        "#solve original flower/petal problem\n",
        "#    type\n",
        "#    /   \\\n",
        "#length  width\n",
        "\n",
        "#3d graph (x = length, z = width, y = color(x,z))\n",
        "\n",
        "%matplotlib inline"
      ],
      "execution_count": 0,
      "outputs": []
    },
    {
      "metadata": {
        "id": "TTbLvJ2uRRSl",
        "colab_type": "code",
        "colab": {}
      },
      "cell_type": "code",
      "source": [
        "from matplotlib import pyplot as plt\n",
        "#numpy"
      ],
      "execution_count": 0,
      "outputs": []
    },
    {
      "metadata": {
        "id": "54ms3SSiRZpv",
        "colab_type": "code",
        "colab": {}
      },
      "cell_type": "code",
      "source": [
        "#each point is length, width, type(blue=0,red=1)\n",
        "data = [[3,   1.5,  1], \n",
        "        [2,   1,    0],\n",
        "        [4,   1.5,  1],\n",
        "        [3,   1,    0],\n",
        "        [3.5, .5,   1],\n",
        "        [2,   .5,   0],\n",
        "        [5.5, 1,    1],\n",
        "        [1,   1,    0]]\n",
        "\n",
        "mystery_flower = [4.5,1]"
      ],
      "execution_count": 0,
      "outputs": []
    },
    {
      "metadata": {
        "id": "YmoYT3wDSRJt",
        "colab_type": "code",
        "colab": {}
      },
      "cell_type": "code",
      "source": [
        "#network architecture\n",
        "\n",
        "#     o  flower type\n",
        "#     /\\  w1, w2, b\n",
        "#    o  o  length, weight\n",
        "\n",
        "#start of as random number\n",
        "w1 = np.random.randn()\n",
        "w2 = np.random.randn()\n",
        "b = np.random.randn()"
      ],
      "execution_count": 0,
      "outputs": []
    },
    {
      "metadata": {
        "id": "_jQtBrWWStqP",
        "colab_type": "code",
        "colab": {}
      },
      "cell_type": "code",
      "source": [
        "def sigmoid(x):  #squashes number to 0-1\n",
        "  return 1/(1+np.exp(-x))\n",
        "\n",
        "def d_sigmoid(x): #derivative of sigmoid\n",
        "  return sigmoid(x) * (1-sigmoid(x))"
      ],
      "execution_count": 0,
      "outputs": []
    },
    {
      "metadata": {
        "id": "s49rzk-8S6Hg",
        "colab_type": "code",
        "outputId": "18271705-95c4-43fa-beb5-4de09eb794d0",
        "colab": {
          "base_uri": "https://localhost:8080/",
          "height": 283
        }
      },
      "cell_type": "code",
      "source": [
        "X = np.linspace(-6, 6, 100)\n",
        "plt.plot(X, sigmoid(X), c='r') #\n",
        "plt.plot(T, d_sigmoid(T), c='b') #slope of sigmoid is decreasing at >0"
      ],
      "execution_count": 0,
      "outputs": [
        {
          "output_type": "execute_result",
          "data": {
            "text/plain": [
              "[<matplotlib.lines.Line2D at 0x7f5a794d55f8>]"
            ]
          },
          "metadata": {
            "tags": []
          },
          "execution_count": 78
        },
        {
          "output_type": "display_data",
          "data": {
            "image/png": "[encoded data removed]",
            "text/plain": [
              "<Figure size 432x288 with 1 Axes>"
            ]
          },
          "metadata": {
            "tags": []
          }
        }
      ]
    },
    {
      "metadata": {
        "id": "j_HUQh6dU11h",
        "colab_type": "code",
        "outputId": "b448b616-dd6b-4e3c-e641-c03d12f7ed1c",
        "colab": {
          "base_uri": "https://localhost:8080/",
          "height": 269
        }
      },
      "cell_type": "code",
      "source": [
        "#scater plot\n",
        "plt.axis([0,6,0,6])\n",
        "plt.grid()\n",
        "for i in range(len(data)):\n",
        "  point = data[i]\n",
        "  color = 'r'\n",
        "  if point[2] == 0:\n",
        "    color = 'b'\n",
        "  plt.scatter(point[0], point[1], c = color)"
      ],
      "execution_count": 0,
      "outputs": [
        {
          "output_type": "display_data",
          "data": {
            "image/png": "[encoded data removed]",
            "text/plain": [
              "<Figure size 432x288 with 1 Axes>"
            ]
          },
          "metadata": {
            "tags": []
          }
        }
      ]
    },
    {
      "metadata": {
        "id": "s5CWeYFFS-RO",
        "colab_type": "code",
        "outputId": "1448b703-9394-47ed-8983-c1c6e63e6ed6",
        "colab": {
          "base_uri": "https://localhost:8080/",
          "height": 283
        }
      },
      "cell_type": "code",
      "source": [
        "#network architecture\n",
        "\n",
        "#     o  flower type\n",
        "#     /\\  w1, w2, b\n",
        "#    o  o  length, weight\n",
        "\n",
        "#start of as random number\n",
        "w1 = np.random.randn()\n",
        "w2 = np.random.randn()\n",
        "b = np.random.randn()\n",
        "\n",
        "\n",
        "learning_rate = 0.2 #the size of the sigmoid fraction\n",
        "costs = []\n",
        "\n",
        "#training loop\n",
        "for i in range(50000):\n",
        "  ri = np.random.randint(len(data)) #random index\n",
        "  point = data[ri]\n",
        "  \n",
        "  #weighted average\n",
        "  z = point[0] * w1 + point[1] * w2 + b\n",
        "  pred = sigmoid(z)\n",
        "  \n",
        "  target = point[2]\n",
        "  cost = np.square(pred - target)\n",
        "  \n",
        "    \n",
        "  #derivative of the cost with respect to prediction\n",
        "  dcost_pred = 2*(pred-target)\n",
        "  #derivative of prediction with respect to z\n",
        "  dpred_dz = d_sigmoid(z)       \n",
        "  \n",
        "  #derivative of z with repect to w1     \n",
        "  dz_dw1 = point[0]\n",
        "  dz_dw2 = point[1]\n",
        "  dz_db = 1\n",
        "  \n",
        "  dcost_dz = dcost_pred * dpred_dz\n",
        "  #partial derivatives\n",
        "  dcost_dw1 = dcost_dz * dz_dw1\n",
        "  dcost_dw2 = dcost_dz * dz_dw2\n",
        "  dcost_db = dcost_dz * dz_db\n",
        "  \n",
        "  w1 = w1 - learning_rate * dcost_dw1\n",
        "  w2 = w2 - learning_rate * dcost_dw2\n",
        "  b = b - learning_rate * dcost_db\n",
        "  \n",
        "  if i % 100 == 0:\n",
        "    cost_sum = 0\n",
        "    for j in range(len(data)):\n",
        "      p=data[j]\n",
        "      z = point[0] * w1 + point[1]*w2 + b\n",
        "      pred = sigmoid(z)\n",
        "      target = point[2]\n",
        "      cost_sum += np.square(pred - target)\n",
        "    \n",
        "  costs.append(cost_sum/len(data))\n",
        "\n",
        "plt.plot(costs)\n",
        "#spikes caused by points on boundary"
      ],
      "execution_count": 0,
      "outputs": [
        {
          "output_type": "execute_result",
          "data": {
            "text/plain": [
              "[<matplotlib.lines.Line2D at 0x7f5a79060cf8>]"
            ]
          },
          "metadata": {
            "tags": []
          },
          "execution_count": 101
        },
        {
          "output_type": "display_data",
          "data": {
            "image/png": "[encoded data removed]",
            "text/plain": [
              "<Figure size 432x288 with 1 Axes>"
            ]
          },
          "metadata": {
            "tags": []
          }
        }
      ]
    },
    {
      "metadata": {
        "id": "PkOjs5U8UkiX",
        "colab_type": "code",
        "outputId": "0385bf6d-e229-4bf7-bb33-f2d2b45c173c",
        "colab": {
          "base_uri": "https://localhost:8080/",
          "height": 295
        }
      },
      "cell_type": "code",
      "source": [
        "#seeing model predictions\n",
        "\n",
        "for i in range(len(data)):\n",
        "  point = data[i]\n",
        "  print(point)\n",
        "  z = point[0] * w1 + point[1] * w1 + b\n",
        "  pred = sigmoid(z)\n",
        "  print(\"pred: {}\".format(pred))"
      ],
      "execution_count": 0,
      "outputs": [
        {
          "output_type": "stream",
          "text": [
            "[3, 1.5, 1]\n",
            "pred: 0.9991606285207704\n",
            "[2, 1, 0]\n",
            "pred: 0.032682313797193115\n",
            "[4, 1.5, 1]\n",
            "pred: 0.9999992183237232\n",
            "[3, 1, 0]\n",
            "pred: 0.9731980772928973\n",
            "[3.5, 0.5, 1]\n",
            "pred: 0.9731980772928973\n",
            "[2, 0.5, 0]\n",
            "pred: 0.0010295572316521922\n",
            "[5.5, 1, 1]\n",
            "pred: 0.9999999992726631\n",
            "[1, 1, 0]\n",
            "pred: 3.143680414798843e-05\n"
          ],
          "name": "stdout"
        }
      ]
    },
    {
      "metadata": {
        "id": "dF8F69PhbI9V",
        "colab_type": "code",
        "outputId": "740776fd-c394-4e31-f184-a876143dcb01",
        "colab": {
          "base_uri": "https://localhost:8080/",
          "height": 35
        }
      },
      "cell_type": "code",
      "source": [
        "z  = mystery_flower[0]*w1 + mystery_flower[1]*w2 + b\n",
        "pred = sigmoid(z)\n",
        "pred"
      ],
      "execution_count": 0,
      "outputs": [
        {
          "output_type": "execute_result",
          "data": {
            "text/plain": [
              "0.99996331802062"
            ]
          },
          "metadata": {
            "tags": []
          },
          "execution_count": 104
        }
      ]
    },
    {
      "metadata": {
        "id": "sDuV2JjvbiTh",
        "colab_type": "code",
        "colab": {}
      },
      "cell_type": "code",
      "source": [
        "#import os\n",
        "\n",
        "#from win32com.client import Dispatch\n",
        "#speak = Dispatch(\"SAPI.SpVoice\")\n",
        "\n",
        "def which_flower(length, width):\n",
        "  z  = length*w1 + width*w2 + b\n",
        "  pred = sigmoid(z)\n",
        "  if pred < .5:\n",
        "    print(\"Blue\")\n",
        "    #speak.Speak(\"Blue\")\n",
        "    #os.system(\"say blue\")\n",
        "  else:\n",
        "    print(\"Red\")\n",
        "    #speak.Speak(\"Red\")\n",
        "    #os.system(\"say red\")"
      ],
      "execution_count": 0,
      "outputs": []
    },
    {
      "metadata": {
        "id": "1Qi7IoOtb2Pc",
        "colab_type": "code",
        "outputId": "9b38fd22-c0c7-4dd3-d754-9235119e5225",
        "colab": {
          "base_uri": "https://localhost:8080/",
          "height": 35
        }
      },
      "cell_type": "code",
      "source": [
        "which_flower(1,1)"
      ],
      "execution_count": 0,
      "outputs": [
        {
          "output_type": "stream",
          "text": [
            "Blue\n"
          ],
          "name": "stdout"
        }
      ]
    },
    {
      "metadata": {
        "id": "G70lcd0LcNNi",
        "colab_type": "code",
        "colab": {}
      },
      "cell_type": "code",
      "source": [
        ""
      ],
      "execution_count": 0,
      "outputs": []
    }
  ]
}